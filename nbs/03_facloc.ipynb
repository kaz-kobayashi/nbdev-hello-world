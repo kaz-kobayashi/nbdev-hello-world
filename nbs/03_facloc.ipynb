{
 "cells": [
  {
   "cell_type": "markdown",
   "metadata": {},
   "source": [
    "# 施設配置問題\n"
   ]
  },
  {
   "cell_type": "code",
   "execution_count": null,
   "metadata": {},
   "outputs": [],
   "source": [
    "#| default_exp gis1"
   ]
  },
  {
   "cell_type": "code",
   "execution_count": null,
   "metadata": {},
   "outputs": [],
   "source": [
    "#| hide\n",
    "from nbdev.showdoc import *"
   ]
  },
  {
   "cell_type": "markdown",
   "metadata": {},
   "source": [
    "施設配置問題は，候補地の中からある目的関数を最適化するように実際に施設を配置する場所を選び出す問題である。施設配置問題を知るのに適切な文献として，[田中健一，数理最適化入門(4) : 施設配置の数理モデル(チュートリアル)，応用数理23(4),2013](https://www.jstage.jst.go.jp/article/bjsiam/23/4/23_KJ00008992858/_article/-char/ja/)が挙げられる。\n",
    "\n",
    "\n",
    "施設配置問題を定めるには，需要点の集合$I$と，配置候補地$J$を定義する。そして，需要点$i \\in I$から$j \\in J$への移動距離$d_{ij}$が与えられるとする。さらに，需要点$i$の需要量$w_i$が与えられるとする。\n",
    "\n",
    "また，配置候補地$j \\in J$に対して0-1変数$x_j$を導入する。候補地$j \\in J$に施設を配置すること1，そうでないとき0をとる変数とする。そして，$i \\in I$と$j \\in J$の各ペアに対して，変数$y_{ij}$を定義する。この変数は，需要$i$を施設$j$に配置するとき1，そうでないとき0となる。\n",
    "\n",
    "施設配置問題の目的関数は，各需要点から，その需要点に割り当てられた施設への移動距離の重み付き和$\\sum_{i \\in I}\\sum_{j \\in J}w_id_{ij}y_{ij}$とする。\n",
    "\n",
    "制約条件としては，\n",
    "\n",
    "- 配置する施設数がちょうど$p$個となる制約:\n",
    "\n",
    "$$\n",
    "\\sum_{j \\in J}x_j=p\n",
    "$$\n",
    "\n",
    "- 各需要点がちょうど1つの施設に割り当てられることを課す制約\n",
    "\n",
    "$$\n",
    "\\sum_{j \\in J}y_{ij}=1 \\ \\ \\forall i  \\in I \n",
    "$$\n",
    "\n",
    "- 需要点$i$が施設$j$に割り当てられるには施設$j$が配置されている必要があることを課す制約\n",
    "\n",
    "$$\n",
    "y_{ij} \\leq x_j \\ \\ \\forall i  \\in I,\\ \\forall j  \\in J \n",
    "$$\n",
    "\n",
    "を課す。まとめると，施設配置問題は，次の整数計画問題として定式化される。\n",
    "\n",
    "$$\n",
    "\\begin{array}{lll}\n",
    "\\min&\\displaystyle \\sum_{i  \\in I}\\sum_{j \\in J}w_id_{ij}y_{ij}&\\\\ \n",
    "\\text{s.t.}&\\displaystyle\\sum_{j \\in J }x_j=p&\\\\\n",
    "&\\displaystyle\\sum_{j\\in J}y_{ij}=1&\\ \\forall i  \\in I\\\\\n",
    "&y_{ij}\\leq\\ x_j&\\ \\forall i  \\in I\\ \\forall j  \\in J\\\\\n",
    "&x_j\\in\\{0,1\\}&\\ \\forall j \\in J\\\\\n",
    "&y_{ij}\\in\\{0,1\\}&\\ \\forall i \\in I,\\forall j \\in J.\n",
    "\\end{array}\n",
    "$$\n",
    "\n"
   ]
  },
  {
   "cell_type": "markdown",
   "metadata": {},
   "source": [
    "この整数計画問題を解くためのプログラムを定める。まず，集合$I,J$，$w_i$，$d_{ij}$，$p$を定めるリストと辞書を定義する。"
   ]
  },
  {
   "cell_type": "code",
   "execution_count": null,
   "metadata": {},
   "outputs": [],
   "source": [
    "#需要点の集合の定義\n",
    "I=[0,1]\n",
    "#配置候補地の集合\n",
    "J=[0,1,2,3,4]\n",
    "#需要量の定義\n",
    "w={0:10,1:15,2:7,3:9,4:12}\n",
    "#施設数の定義\n",
    "p=2\n",
    "\n",
    "# costsの定義\n",
    "costs = {\n",
    "    (0, 0): 4,\n",
    "    (0, 1): 6,\n",
    "    (0, 2): 9,\n",
    "    (0, 3): 8,\n",
    "    (0, 4): 7,\n",
    "    (1, 0): 5,\n",
    "    (1, 1): 8,\n",
    "    (1, 2): 7,\n",
    "    (1, 3): 6,\n",
    "    (1, 4): 4\n",
    "}"
   ]
  },
  {
   "cell_type": "markdown",
   "metadata": {},
   "source": [
    "これらを用いて施設配置問題を解く関数`facilitylocation()`を定める。"
   ]
  },
  {
   "cell_type": "code",
   "execution_count": 42,
   "metadata": {},
   "outputs": [],
   "source": [
    "\n",
    "\n",
    "from pulp import *\n",
    "\n",
    "def facilitylocation(I,J,w,costs,p):\n",
    "    # 空の線形計画問題を生成する\n",
    "    prob = LpProblem(\"FacilityLocation\", LpMinimize)\n",
    "\n",
    "    # 決定変数を定める\n",
    "    y=LpVariable.dicts(\"y\",[(i,j) for i in I for j in J],cat='Binary')\n",
    "    x=LpVariable.dicts(\"x\",[j for j in J],cat='Binary')\n",
    "\n",
    "    # 目的関数の定義\n",
    "    prob += lpSum([w[i]*costs[(i, j)] * y[(i, j)] for j in J] for i in I)\n",
    "\n",
    "    # 制約条件の定義\n",
    "    prob+=lpSum([x[j] for j in J])==p\n",
    "\n",
    "    for i in I:\n",
    "        prob+=lpSum([y[(i,j)] for j in J])==1\n",
    "\n",
    "    for i in I:\n",
    "        for j in J:\n",
    "            prob+=y[(i,j)]<=x[j]\n",
    "\n",
    "    # 最適化の実行\n",
    "    prob.solve();\n",
    "\n",
    "    # Print the results\n",
    "    print(\"Status:\", LpStatus[prob.status])\n",
    "    for v in prob.variables():\n",
    "        print(v.name, \"=\", v.varValue)\n",
    "    print(\"Total Cost = \", value(prob.objective))\n",
    "    \n"
   ]
  },
  {
   "cell_type": "markdown",
   "metadata": {},
   "source": [
    "こうして定義した関数を用いて配置する施設と，各需要点の施設への割り当てを求める。"
   ]
  },
  {
   "cell_type": "code",
   "execution_count": 43,
   "metadata": {},
   "outputs": [
    {
     "name": "stdout",
     "output_type": "stream",
     "text": [
      "Welcome to the CBC MILP Solver \n",
      "Version: 2.10.10 \n",
      "Build Date: Apr 19 2023 \n",
      "\n",
      "command line - cbc /var/folders/w6/pzry98n55l31dnvgymbwt9jh0000gn/T/8b46036933744d2db5bb7156cf4f5a18-pulp.mps timeMode elapsed branch printingOptions all solution /var/folders/w6/pzry98n55l31dnvgymbwt9jh0000gn/T/8b46036933744d2db5bb7156cf4f5a18-pulp.sol (default strategy 1)\n",
      "At line 2 NAME          MODEL\n",
      "At line 3 ROWS\n",
      "At line 18 COLUMNS\n",
      "At line 94 RHS\n",
      "At line 108 BOUNDS\n",
      "At line 124 ENDATA\n",
      "Problem MODEL has 13 rows, 15 columns and 35 elements\n",
      "Coin0008I MODEL read with 0 errors\n",
      "Option for timeMode changed from cpu to elapsed\n",
      "Continuous objective value is 100 - 0.00 seconds\n",
      "Cgl0004I processed model has 13 rows, 15 columns (15 integer (15 of which binary)) and 35 elements\n",
      "Cutoff increment increased from 1e-05 to 4.9999\n",
      "Cbc0038I Initial state - 0 integers unsatisfied sum - 0\n",
      "Cbc0038I Solution found of 100\n",
      "Cbc0038I Before mini branch and bound, 15 integers at bound fixed and 0 continuous\n",
      "Cbc0038I Mini branch and bound did not improve solution (0.00 seconds)\n",
      "Cbc0038I After 0.00 seconds - Feasibility pump exiting with objective of 100 - took 0.00 seconds\n",
      "Cbc0012I Integer solution of 100 found by feasibility pump after 0 iterations and 0 nodes (0.00 seconds)\n",
      "Cbc0001I Search completed - best objective 100, took 0 iterations and 0 nodes (0.00 seconds)\n",
      "Cbc0035I Maximum depth 0, 0 variables fixed on reduced cost\n",
      "Cuts at root node changed objective from 100 to 100\n",
      "Probing was tried 0 times and created 0 cuts of which 0 were active after adding rounds of cuts (0.000 seconds)\n",
      "Gomory was tried 0 times and created 0 cuts of which 0 were active after adding rounds of cuts (0.000 seconds)\n",
      "Knapsack was tried 0 times and created 0 cuts of which 0 were active after adding rounds of cuts (0.000 seconds)\n",
      "Clique was tried 0 times and created 0 cuts of which 0 were active after adding rounds of cuts (0.000 seconds)\n",
      "MixedIntegerRounding2 was tried 0 times and created 0 cuts of which 0 were active after adding rounds of cuts (0.000 seconds)\n",
      "FlowCover was tried 0 times and created 0 cuts of which 0 were active after adding rounds of cuts (0.000 seconds)\n",
      "TwoMirCuts was tried 0 times and created 0 cuts of which 0 were active after adding rounds of cuts (0.000 seconds)\n",
      "ZeroHalf was tried 0 times and created 0 cuts of which 0 were active after adding rounds of cuts (0.000 seconds)\n",
      "\n",
      "Result - Optimal solution found\n",
      "\n",
      "Objective value:                100.00000000\n",
      "Enumerated nodes:               0\n",
      "Total iterations:               0\n",
      "Time (CPU seconds):             0.00\n",
      "Time (Wallclock seconds):       0.00\n",
      "\n",
      "Option for printingOptions changed from normal to all\n",
      "Total time (CPU seconds):       0.00   (Wallclock seconds):       0.00\n",
      "\n",
      "Status: Optimal\n",
      "x_0 = 1.0\n",
      "x_1 = 0.0\n",
      "x_2 = 0.0\n",
      "x_3 = 0.0\n",
      "x_4 = 1.0\n",
      "y_(0,_0) = 1.0\n",
      "y_(0,_1) = 0.0\n",
      "y_(0,_2) = 0.0\n",
      "y_(0,_3) = 0.0\n",
      "y_(0,_4) = 0.0\n",
      "y_(1,_0) = 0.0\n",
      "y_(1,_1) = 0.0\n",
      "y_(1,_2) = 0.0\n",
      "y_(1,_3) = 0.0\n",
      "y_(1,_4) = 1.0\n",
      "Total Cost =  100.0\n"
     ]
    }
   ],
   "source": [
    "\n",
    "facilitylocation(I,J,w,costs,p)"
   ]
  },
  {
   "cell_type": "markdown",
   "metadata": {},
   "source": [
    "この出力結果から，最適解が求まったことがわかる。配置する施設は0と4であり，需要点0は施設0に，需要点1は施設4に掘り当てることが最適であることがわかる。また，その時の目的関数値は100であることもわかる。\n"
   ]
  },
  {
   "cell_type": "code",
   "execution_count": 44,
   "metadata": {},
   "outputs": [],
   "source": [
    "#| hide\n",
    "import nbdev; nbdev.nbdev_export()"
   ]
  },
  {
   "cell_type": "code",
   "execution_count": null,
   "metadata": {},
   "outputs": [],
   "source": []
  }
 ],
 "metadata": {
  "kernelspec": {
   "display_name": "Python 3 (ipykernel)",
   "language": "python",
   "name": "python3"
  },
  "language_info": {
   "codemirror_mode": {
    "name": "ipython",
    "version": 3
   },
   "file_extension": ".py",
   "mimetype": "text/x-python",
   "name": "python",
   "nbconvert_exporter": "python",
   "pygments_lexer": "ipython3",
   "version": "3.11.4"
  }
 },
 "nbformat": 4,
 "nbformat_minor": 4
}
