{
 "cells": [
  {
   "cell_type": "markdown",
   "metadata": {},
   "source": [
    "# 施設配置問題\n"
   ]
  },
  {
   "cell_type": "code",
   "execution_count": null,
   "metadata": {},
   "outputs": [],
   "source": [
    "#| default_exp gis1"
   ]
  },
  {
   "cell_type": "code",
   "execution_count": null,
   "metadata": {},
   "outputs": [],
   "source": [
    "#| hide\n",
    "from nbdev.showdoc import *"
   ]
  },
  {
   "cell_type": "markdown",
   "metadata": {},
   "source": [
    "施設配置問題は，候補地の中からある目的関数を最適化するように実際に施設を配置する場所を選び出す問題である。施設配置問題を知るのに適切な文献として，[田中健一，数理最適化入門(4) : 施設配置の数理モデル(チュートリアル)，応用数理23(4),2013](https://www.jstage.jst.go.jp/article/bjsiam/23/4/23_KJ00008992858/_article/-char/ja/)が挙げられる。\n",
    "\n",
    "\n",
    "施設配置問題を定めるには，需要点の集合$I$と，配置候補地$J$を定義する。そして，需要点$i \\in I$から$j \\in J$への移動距離$d_{ij}$が与えられるとする。さらに，需要点$i$の需要量$w_i$が与えられるとする。\n",
    "\n",
    "また，配置候補地$j \\in J$に対して0-1変数$x_j$を導入する。候補地$j \\in J$に施設を配置すること1，そうでないとき0をとる変数とする。そして，$i \\in I$と$j \\in J$の各ペアに対して，変数$y_{ij}$を定義する。この変数は，需要$i$を施設$j$に配置するとき1，そうでないとき0となる。\n",
    "\n",
    "施設配置問題の目的関数は，各需要点から，その需要点に割り当てられた施設への移動距離の重み付き和$\\sum_{i \\in I}\\sum_{j \\in J}w_id_{ij}y_{ij}$とする。\n",
    "\n",
    "制約条件としては，\n",
    "\n",
    "- 配置する施設数がちょうど$p$個となる制約:\n",
    "\n",
    "$$\n",
    "\\sum_{j \\in J}x_j=p\n",
    "$$\n",
    "\n",
    "- 各需要点がちょうど1つの施設に割り当てられることを課す制約\n",
    "\n",
    "$$\n",
    "\\sum_{j \\in J}y_{ij}=1 \\ \\ \\forall i  \\in I \n",
    "$$\n",
    "\n",
    "- 需要点$i$が施設$j$に割り当てられるには施設$j$が配置されている必要があることを課す制約\n",
    "\n",
    "$$\n",
    "y_{ij} \\leq x_j \\ \\ \\forall i  \\in I,\\ \\forall j  \\in J \n",
    "$$\n",
    "\n",
    "を課す。まとめると，施設配置問題は，次の整数計画問題として定式化される。\n",
    "\n",
    "$$\n",
    "\\begin{array}{lll}\n",
    "\\min&\\displaystyle \\sum_{i  \\in I}\\sum_{j \\in J}w_id_{ij}y_{ij}&\\\\ \n",
    "\\text{s.t.}&\\displaystyle\\sum_{j \\in J }x_j=p&\\\\\n",
    "&\\displaystyle\\sum_{j\\in J}y_{ij}=1&\\ \\forall i  \\in I\\\\\n",
    "&y_{ij}\\leq\\ x_j&\\ \\forall i  \\in I\\ \\forall j  \\in J\\\\\n",
    "&x_j\\in\\{0,1\\}&\\ \\forall j \\in J\\\\\n",
    "&y_{ij}\\in\\{0,1\\}&\\ \\forall i \\in I,\\forall j \\in J.\n",
    "\\end{array}\n",
    "$$\n",
    "\n"
   ]
  },
  {
   "cell_type": "markdown",
   "metadata": {},
   "source": [
    "この整数計画問題を解くためのプログラムを定める。まず，集合$I,J$，$w_i$，$d_{ij}$，$p$を定めるリストと辞書を定義する。"
   ]
  },
  {
   "cell_type": "code",
   "execution_count": null,
   "metadata": {},
   "outputs": [],
   "source": [
    "#需要点の集合の定義\n",
    "I=[0,1]\n",
    "#配置候補地の集合\n",
    "J=[0,1,2,3,4]\n",
    "#需要量の定義\n",
    "w={0:10,1:15,2:7,3:9,4:12}\n",
    "#施設数の定義\n",
    "p=2\n",
    "\n",
    "# costsの定義\n",
    "costs = {\n",
    "    (0, 0): 4,\n",
    "    (0, 1): 6,\n",
    "    (0, 2): 9,\n",
    "    (0, 3): 8,\n",
    "    (0, 4): 7,\n",
    "    (1, 0): 5,\n",
    "    (1, 1): 8,\n",
    "    (1, 2): 7,\n",
    "    (1, 3): 6,\n",
    "    (1, 4): 4\n",
    "}"
   ]
  },
  {
   "cell_type": "markdown",
   "metadata": {},
   "source": [
    "これらを用いて施設配置問題を解く関数`facilitylocation()`を定める。"
   ]
  },
  {
   "cell_type": "code",
   "execution_count": 42,
   "metadata": {},
   "outputs": [],
   "source": [
    "\n",
    "\n",
    "from pulp import *\n",
    "\n",
    "def facilitylocation(I,J,w,costs,p):\n",
    "    # 空の線形計画問題を生成する\n",
    "    prob = LpProblem(\"FacilityLocation\", LpMinimize)\n",
    "\n",
    "    # 決定変数を定める\n",
    "    y=LpVariable.dicts(\"y\",[(i,j) for i in I for j in J],cat='Binary')\n",
    "    x=LpVariable.dicts(\"x\",[j for j in J],cat='Binary')\n",
    "\n",
    "    # 目的関数の定義\n",
    "    prob += lpSum([w[i]*costs[(i, j)] * y[(i, j)] for j in J] for i in I)\n",
    "\n",
    "    # 制約条件の定義\n",
    "    prob+=lpSum([x[j] for j in J])==p\n",
    "\n",
    "    for i in I:\n",
    "        prob+=lpSum([y[(i,j)] for j in J])==1\n",
    "\n",
    "    for i in I:\n",
    "        for j in J:\n",
    "            prob+=y[(i,j)]<=x[j]\n",
    "\n",
    "    # 最適化の実行\n",
    "    prob.solve();\n",
    "\n",
    "    # Print the results\n",
    "    print(\"Status:\", LpStatus[prob.status])\n",
    "    for v in prob.variables():\n",
    "        print(v.name, \"=\", v.varValue)\n",
    "    print(\"Total Cost = \", value(prob.objective))\n",
    "    \n"
   ]
  },
  {
   "cell_type": "markdown",
   "metadata": {},
   "source": [
    "こうして定義した関数を用いて配置する施設と，各需要点の施設への割り当てを求める。"
   ]
  },
  {
   "cell_type": "code",
   "execution_count": 43,
   "metadata": {},
   "outputs": [
    {
     "name": "stdout",
     "output_type": "stream",
     "text": [
      "Welcome to the CBC MILP Solver \n",
      "Version: 2.10.10 \n",
      "Build Date: Apr 19 2023 \n",
      "\n",
      "command line - cbc /var/folders/w6/pzry98n55l31dnvgymbwt9jh0000gn/T/8b46036933744d2db5bb7156cf4f5a18-pulp.mps timeMode elapsed branch printingOptions all solution /var/folders/w6/pzry98n55l31dnvgymbwt9jh0000gn/T/8b46036933744d2db5bb7156cf4f5a18-pulp.sol (default strategy 1)\n",
      "At line 2 NAME          MODEL\n",
      "At line 3 ROWS\n",
      "At line 18 COLUMNS\n",
      "At line 94 RHS\n",
      "At line 108 BOUNDS\n",
      "At line 124 ENDATA\n",
      "Problem MODEL has 13 rows, 15 columns and 35 elements\n",
      "Coin0008I MODEL read with 0 errors\n",
      "Option for timeMode changed from cpu to elapsed\n",
      "Continuous objective value is 100 - 0.00 seconds\n",
      "Cgl0004I processed model has 13 rows, 15 columns (15 integer (15 of which binary)) and 35 elements\n",
      "Cutoff increment increased from 1e-05 to 4.9999\n",
      "Cbc0038I Initial state - 0 integers unsatisfied sum - 0\n",
      "Cbc0038I Solution found of 100\n",
      "Cbc0038I Before mini branch and bound, 15 integers at bound fixed and 0 continuous\n",
      "Cbc0038I Mini branch and bound did not improve solution (0.00 seconds)\n",
      "Cbc0038I After 0.00 seconds - Feasibility pump exiting with objective of 100 - took 0.00 seconds\n",
      "Cbc0012I Integer solution of 100 found by feasibility pump after 0 iterations and 0 nodes (0.00 seconds)\n",
      "Cbc0001I Search completed - best objective 100, took 0 iterations and 0 nodes (0.00 seconds)\n",
      "Cbc0035I Maximum depth 0, 0 variables fixed on reduced cost\n",
      "Cuts at root node changed objective from 100 to 100\n",
      "Probing was tried 0 times and created 0 cuts of which 0 were active after adding rounds of cuts (0.000 seconds)\n",
      "Gomory was tried 0 times and created 0 cuts of which 0 were active after adding rounds of cuts (0.000 seconds)\n",
      "Knapsack was tried 0 times and created 0 cuts of which 0 were active after adding rounds of cuts (0.000 seconds)\n",
      "Clique was tried 0 times and created 0 cuts of which 0 were active after adding rounds of cuts (0.000 seconds)\n",
      "MixedIntegerRounding2 was tried 0 times and created 0 cuts of which 0 were active after adding rounds of cuts (0.000 seconds)\n",
      "FlowCover was tried 0 times and created 0 cuts of which 0 were active after adding rounds of cuts (0.000 seconds)\n",
      "TwoMirCuts was tried 0 times and created 0 cuts of which 0 were active after adding rounds of cuts (0.000 seconds)\n",
      "ZeroHalf was tried 0 times and created 0 cuts of which 0 were active after adding rounds of cuts (0.000 seconds)\n",
      "\n",
      "Result - Optimal solution found\n",
      "\n",
      "Objective value:                100.00000000\n",
      "Enumerated nodes:               0\n",
      "Total iterations:               0\n",
      "Time (CPU seconds):             0.00\n",
      "Time (Wallclock seconds):       0.00\n",
      "\n",
      "Option for printingOptions changed from normal to all\n",
      "Total time (CPU seconds):       0.00   (Wallclock seconds):       0.00\n",
      "\n",
      "Status: Optimal\n",
      "x_0 = 1.0\n",
      "x_1 = 0.0\n",
      "x_2 = 0.0\n",
      "x_3 = 0.0\n",
      "x_4 = 1.0\n",
      "y_(0,_0) = 1.0\n",
      "y_(0,_1) = 0.0\n",
      "y_(0,_2) = 0.0\n",
      "y_(0,_3) = 0.0\n",
      "y_(0,_4) = 0.0\n",
      "y_(1,_0) = 0.0\n",
      "y_(1,_1) = 0.0\n",
      "y_(1,_2) = 0.0\n",
      "y_(1,_3) = 0.0\n",
      "y_(1,_4) = 1.0\n",
      "Total Cost =  100.0\n"
     ]
    }
   ],
   "source": [
    "\n",
    "facilitylocation(I,J,w,costs,p)"
   ]
  },
  {
   "cell_type": "markdown",
   "metadata": {},
   "source": [
    "この出力結果から，最適解が求まったことがわかる。配置する施設は0と4であり，需要点0は施設0に，需要点1は施設4に掘り当てることが最適であることがわかる。また，その時の目的関数値は100であることもわかる。\n"
   ]
  },
  {
   "cell_type": "code",
   "execution_count": 44,
   "metadata": {},
   "outputs": [],
   "source": [
    "#| hide\n",
    "import nbdev; nbdev.nbdev_export()"
   ]
  },
  {
   "cell_type": "markdown",
   "metadata": {},
   "source": [
    "実際の地理情報を用いた例\n",
    "\n",
    "[国土数値情報ダウンロードサイト](https://nlftp.mlit.go.jp/ksj/)から，[医療機関データ](https://nlftp.mlit.go.jp/ksj/gml/datalist/KsjTmplt-P04-v3_0.html)をダウンロードする。\n",
    "\n",
    "ここのリストから，神奈川，世界測地系，令和2年のデータである，P04-20_13_GML.zipをダウンロードする。\n",
    "\n",
    "ダウンロードしたファイルを解凍して，得られたフォルダを`data`フォルダに収める。\n",
    "\n",
    "こうして得たファイルを，`geopandas`の`read_file()`により読み込む。"
   ]
  },
  {
   "cell_type": "code",
   "execution_count": 45,
   "metadata": {},
   "outputs": [],
   "source": [
    "import matplotlib.pyplot as plt\n",
    "import geopandas as gpd"
   ]
  },
  {
   "cell_type": "code",
   "execution_count": 58,
   "metadata": {},
   "outputs": [
    {
     "data": {
      "text/html": [
       "<div>\n",
       "<style scoped>\n",
       "    .dataframe tbody tr th:only-of-type {\n",
       "        vertical-align: middle;\n",
       "    }\n",
       "\n",
       "    .dataframe tbody tr th {\n",
       "        vertical-align: top;\n",
       "    }\n",
       "\n",
       "    .dataframe thead th {\n",
       "        text-align: right;\n",
       "    }\n",
       "</style>\n",
       "<table border=\"1\" class=\"dataframe\">\n",
       "  <thead>\n",
       "    <tr style=\"text-align: right;\">\n",
       "      <th></th>\n",
       "      <th>P04_001</th>\n",
       "      <th>P04_002</th>\n",
       "      <th>P04_003</th>\n",
       "      <th>P04_004</th>\n",
       "      <th>P04_005</th>\n",
       "      <th>P04_006</th>\n",
       "      <th>P04_007</th>\n",
       "      <th>P04_008</th>\n",
       "      <th>P04_009</th>\n",
       "      <th>P04_010</th>\n",
       "      <th>geometry</th>\n",
       "    </tr>\n",
       "  </thead>\n",
       "  <tbody>\n",
       "    <tr>\n",
       "      <th>0</th>\n",
       "      <td>3</td>\n",
       "      <td>キタカタ歯科医院</td>\n",
       "      <td>江戸川区南篠崎町3-3-1　スイートヒルズ瑞江1階</td>\n",
       "      <td>歯</td>\n",
       "      <td>NaN</td>\n",
       "      <td>NaN</td>\n",
       "      <td>9</td>\n",
       "      <td>0</td>\n",
       "      <td>9</td>\n",
       "      <td>9</td>\n",
       "      <td>POINT (139.90021 35.69387)</td>\n",
       "    </tr>\n",
       "    <tr>\n",
       "      <th>1</th>\n",
       "      <td>3</td>\n",
       "      <td>スギタ歯科篠崎診療室</td>\n",
       "      <td>江戸川区上篠崎2-4-3</td>\n",
       "      <td>歯　小歯　矯歯　口外</td>\n",
       "      <td>NaN</td>\n",
       "      <td>NaN</td>\n",
       "      <td>9</td>\n",
       "      <td>0</td>\n",
       "      <td>9</td>\n",
       "      <td>9</td>\n",
       "      <td>POINT (139.90121 35.71164)</td>\n",
       "    </tr>\n",
       "    <tr>\n",
       "      <th>2</th>\n",
       "      <td>2</td>\n",
       "      <td>江戸川区葛西健康サポ-トセンタ-</td>\n",
       "      <td>江戸川区中葛西3-10-1</td>\n",
       "      <td>内　小　歯</td>\n",
       "      <td>NaN</td>\n",
       "      <td>NaN</td>\n",
       "      <td>9</td>\n",
       "      <td>0</td>\n",
       "      <td>9</td>\n",
       "      <td>9</td>\n",
       "      <td>POINT (139.86965 35.66591)</td>\n",
       "    </tr>\n",
       "    <tr>\n",
       "      <th>3</th>\n",
       "      <td>2</td>\n",
       "      <td>江戸川区江戸川保健所</td>\n",
       "      <td>江戸川区中央4-24-19</td>\n",
       "      <td>内　小　歯</td>\n",
       "      <td>NaN</td>\n",
       "      <td>NaN</td>\n",
       "      <td>9</td>\n",
       "      <td>0</td>\n",
       "      <td>9</td>\n",
       "      <td>9</td>\n",
       "      <td>POINT (139.86835 35.70958)</td>\n",
       "    </tr>\n",
       "    <tr>\n",
       "      <th>4</th>\n",
       "      <td>3</td>\n",
       "      <td>西葛西ファミリー歯科</td>\n",
       "      <td>江戸川区西葛西3-9-19　イオン葛西店4階</td>\n",
       "      <td>歯　小歯　口外　矯歯</td>\n",
       "      <td>NaN</td>\n",
       "      <td>NaN</td>\n",
       "      <td>9</td>\n",
       "      <td>0</td>\n",
       "      <td>9</td>\n",
       "      <td>9</td>\n",
       "      <td>POINT (139.85850 35.66924)</td>\n",
       "    </tr>\n",
       "  </tbody>\n",
       "</table>\n",
       "</div>"
      ],
      "text/plain": [
       "   P04_001            P04_002                    P04_003     P04_004 P04_005  \\\n",
       "0        3          　キタカタ歯科医院  江戸川区南篠崎町3-3-1　スイートヒルズ瑞江1階           歯     NaN   \n",
       "1        3        　スギタ歯科篠崎診療室               江戸川区上篠崎2-4-3  歯　小歯　矯歯　口外     NaN   \n",
       "2        2  　江戸川区葛西健康サポ-トセンタ-              江戸川区中葛西3-10-1       内　小　歯     NaN   \n",
       "3        2        　江戸川区江戸川保健所              江戸川区中央4-24-19       内　小　歯     NaN   \n",
       "4        3        　西葛西ファミリー歯科     江戸川区西葛西3-9-19　イオン葛西店4階  歯　小歯　口外　矯歯     NaN   \n",
       "\n",
       "   P04_006  P04_007  P04_008  P04_009  P04_010                    geometry  \n",
       "0      NaN        9        0        9        9  POINT (139.90021 35.69387)  \n",
       "1      NaN        9        0        9        9  POINT (139.90121 35.71164)  \n",
       "2      NaN        9        0        9        9  POINT (139.86965 35.66591)  \n",
       "3      NaN        9        0        9        9  POINT (139.86835 35.70958)  \n",
       "4      NaN        9        0        9        9  POINT (139.85850 35.66924)  "
      ]
     },
     "execution_count": 58,
     "metadata": {},
     "output_type": "execute_result"
    }
   ],
   "source": [
    "hosp=gpd.read_file('data/P04-20_13_GML/P04-20_13.geojson')\n",
    "hosp.head()"
   ]
  },
  {
   "cell_type": "markdown",
   "metadata": {},
   "source": [
    "このデータのうち，`P04_001`列に，医療機関の分類を示す値が含まれている。これが1なら病院，2なら診療所，3なら歯科診療所であることを示す。この列の値が1であるものを抜き出し，あらためてhospというデータにする。"
   ]
  },
  {
   "cell_type": "code",
   "execution_count": 59,
   "metadata": {},
   "outputs": [],
   "source": [
    "hosp=hosp[hosp[\"P04_001\"]==1]"
   ]
  },
  {
   "cell_type": "markdown",
   "metadata": {},
   "source": [
    "`hosp`の先頭の5行を表示して確かに病院が抜き出されていることを確認する。"
   ]
  },
  {
   "cell_type": "code",
   "execution_count": 60,
   "metadata": {},
   "outputs": [
    {
     "data": {
      "text/html": [
       "<div>\n",
       "<style scoped>\n",
       "    .dataframe tbody tr th:only-of-type {\n",
       "        vertical-align: middle;\n",
       "    }\n",
       "\n",
       "    .dataframe tbody tr th {\n",
       "        vertical-align: top;\n",
       "    }\n",
       "\n",
       "    .dataframe thead th {\n",
       "        text-align: right;\n",
       "    }\n",
       "</style>\n",
       "<table border=\"1\" class=\"dataframe\">\n",
       "  <thead>\n",
       "    <tr style=\"text-align: right;\">\n",
       "      <th></th>\n",
       "      <th>P04_001</th>\n",
       "      <th>P04_002</th>\n",
       "      <th>P04_003</th>\n",
       "      <th>P04_004</th>\n",
       "      <th>P04_005</th>\n",
       "      <th>P04_006</th>\n",
       "      <th>P04_007</th>\n",
       "      <th>P04_008</th>\n",
       "      <th>P04_009</th>\n",
       "      <th>P04_010</th>\n",
       "      <th>geometry</th>\n",
       "    </tr>\n",
       "  </thead>\n",
       "  <tbody>\n",
       "    <tr>\n",
       "      <th>81</th>\n",
       "      <td>1</td>\n",
       "      <td>３６６リハビリテーション病院</td>\n",
       "      <td>府中市住吉町1-34-6</td>\n",
       "      <td>リハビリ科</td>\n",
       "      <td>NaN</td>\n",
       "      <td>NaN</td>\n",
       "      <td>4</td>\n",
       "      <td>68</td>\n",
       "      <td>9</td>\n",
       "      <td>9</td>\n",
       "      <td>POINT (139.45764 35.66162)</td>\n",
       "    </tr>\n",
       "    <tr>\n",
       "      <th>225</th>\n",
       "      <td>1</td>\n",
       "      <td>ＪＲ東京総合病院</td>\n",
       "      <td>渋谷区代々木2-1-3</td>\n",
       "      <td>内科　呼吸器内科　循環器内科　消化器内科　脳神経内科　糖尿病内分泌内科　血液腫瘍内科　リウマ...</td>\n",
       "      <td>放射線科　麻酔科　ペイン外科　臨床検査科　救急科　皮膚科　歯科口腔外科　病理診断科　血管外科</td>\n",
       "      <td>NaN</td>\n",
       "      <td>6</td>\n",
       "      <td>425</td>\n",
       "      <td>1</td>\n",
       "      <td>9</td>\n",
       "      <td>POINT (139.69977 35.68569)</td>\n",
       "    </tr>\n",
       "    <tr>\n",
       "      <th>317</th>\n",
       "      <td>1</td>\n",
       "      <td>ＮＴＴ東日本関東病院</td>\n",
       "      <td>品川区東五反田5-9-22</td>\n",
       "      <td>内科　呼吸器内科　循環器内科　小児科　精神科　外科　整形外科　脳神経外科　心臓血管外科　産婦...</td>\n",
       "      <td>腎臓内科　感染症内科　緩和ケア内科　脳神経内科　脳　血管内科　乳腺外科　呼吸器外科　頭頸部外...</td>\n",
       "      <td>NaN</td>\n",
       "      <td>6</td>\n",
       "      <td>594</td>\n",
       "      <td>1</td>\n",
       "      <td>2</td>\n",
       "      <td>POINT (139.72554 35.63129)</td>\n",
       "    </tr>\n",
       "    <tr>\n",
       "      <th>587</th>\n",
       "      <td>1</td>\n",
       "      <td>あきしま相互病院</td>\n",
       "      <td>昭島市もくせいの杜2-2-1</td>\n",
       "      <td>内科　精神科　リハビリ科</td>\n",
       "      <td>NaN</td>\n",
       "      <td>NaN</td>\n",
       "      <td>4</td>\n",
       "      <td>110</td>\n",
       "      <td>9</td>\n",
       "      <td>9</td>\n",
       "      <td>POINT (139.38428 35.71871)</td>\n",
       "    </tr>\n",
       "    <tr>\n",
       "      <th>644</th>\n",
       "      <td>1</td>\n",
       "      <td>あけぼの病院</td>\n",
       "      <td>町田市中町1-23-3</td>\n",
       "      <td>内科　循環器内科　腎臓内科　人工透析内科　糖尿病内分泌内科　ペイン内科　外科　消化器外科　大...</td>\n",
       "      <td>NaN</td>\n",
       "      <td>NaN</td>\n",
       "      <td>4</td>\n",
       "      <td>98</td>\n",
       "      <td>1</td>\n",
       "      <td>9</td>\n",
       "      <td>POINT (139.44508 35.54962)</td>\n",
       "    </tr>\n",
       "  </tbody>\n",
       "</table>\n",
       "</div>"
      ],
      "text/plain": [
       "     P04_001         P04_002         P04_003  \\\n",
       "81         1  ３６６リハビリテーション病院    府中市住吉町1-34-6   \n",
       "225        1        ＪＲ東京総合病院     渋谷区代々木2-1-3   \n",
       "317        1      ＮＴＴ東日本関東病院   品川区東五反田5-9-22   \n",
       "587        1        あきしま相互病院  昭島市もくせいの杜2-2-1   \n",
       "644        1          あけぼの病院     町田市中町1-23-3   \n",
       "\n",
       "                                               P04_004  \\\n",
       "81                                               リハビリ科   \n",
       "225  内科　呼吸器内科　循環器内科　消化器内科　脳神経内科　糖尿病内分泌内科　血液腫瘍内科　リウマ...   \n",
       "317  内科　呼吸器内科　循環器内科　小児科　精神科　外科　整形外科　脳神経外科　心臓血管外科　産婦...   \n",
       "587                                       内科　精神科　リハビリ科   \n",
       "644  内科　循環器内科　腎臓内科　人工透析内科　糖尿病内分泌内科　ペイン内科　外科　消化器外科　大...   \n",
       "\n",
       "                                               P04_005  P04_006  P04_007  \\\n",
       "81                                                 NaN      NaN        4   \n",
       "225     放射線科　麻酔科　ペイン外科　臨床検査科　救急科　皮膚科　歯科口腔外科　病理診断科　血管外科      NaN        6   \n",
       "317  腎臓内科　感染症内科　緩和ケア内科　脳神経内科　脳　血管内科　乳腺外科　呼吸器外科　頭頸部外...      NaN        6   \n",
       "587                                                NaN      NaN        4   \n",
       "644                                                NaN      NaN        4   \n",
       "\n",
       "     P04_008  P04_009  P04_010                    geometry  \n",
       "81        68        9        9  POINT (139.45764 35.66162)  \n",
       "225      425        1        9  POINT (139.69977 35.68569)  \n",
       "317      594        1        2  POINT (139.72554 35.63129)  \n",
       "587      110        9        9  POINT (139.38428 35.71871)  \n",
       "644       98        1        9  POINT (139.44508 35.54962)  "
      ]
     },
     "execution_count": 60,
     "metadata": {},
     "output_type": "execute_result"
    }
   ],
   "source": [
    "hosp.head()"
   ]
  },
  {
   "cell_type": "markdown",
   "metadata": {},
   "source": [
    "これから，特に町田市内の病院に注目する。そこで，東京都の[行政区域を示すデータ](https://nlftp.mlit.go.jp/ksj/gml/datalist/KsjTmplt-N03-v3_1.html)をダウンロードし，町田市の行政区域コード13209を用いて町田市のデータを取り出す。ダウンロードするのは，世界測地系，令和5年のデータである，N03-20230101_13_GMP.zipとする。"
   ]
  },
  {
   "cell_type": "code",
   "execution_count": 63,
   "metadata": {},
   "outputs": [],
   "source": [
    "tokyo=gpd.read_file('data/N03-20230101_13_GML/N03-23_13_230101.geojson')\n",
    "machida=tokyo[tokyo[\"N03_007\"]=='13209'].copy()"
   ]
  },
  {
   "cell_type": "markdown",
   "metadata": {},
   "source": [
    "得られた`machida`をプロットして，確かに町田市の行政区域であることを確認する。"
   ]
  },
  {
   "cell_type": "code",
   "execution_count": 65,
   "metadata": {},
   "outputs": [
    {
     "data": {
      "text/plain": [
       "<Axes: >"
      ]
     },
     "execution_count": 65,
     "metadata": {},
     "output_type": "execute_result"
    },
    {
     "data": {
      "image/png": "[encoded data removed]",
      "text/plain": [
       "<Figure size 640x480 with 1 Axes>"
      ]
     },
     "metadata": {},
     "output_type": "display_data"
    }
   ],
   "source": [
    "machida.plot()"
   ]
  },
  {
   "cell_type": "markdown",
   "metadata": {},
   "source": [
    "町田市内の病院を，`geopandas`の`sjoin`という演算を用いて取り出す。`how=\"inner\"`を指定することで，`sjoin()`の最初の引数`hosp`からデータを取り出す。同時に，`op=\"within\"`を指定することで，`machida`の区域（多角形）に含まれる`hosp`の行を取り出す。"
   ]
  },
  {
   "cell_type": "code",
   "execution_count": 66,
   "metadata": {},
   "outputs": [
    {
     "name": "stderr",
     "output_type": "stream",
     "text": [
      "/Users/kazuhiro/miniconda3/envs/nbdev/lib/python3.11/site-packages/IPython/core/interactiveshell.py:3448: FutureWarning: The `op` parameter is deprecated and will be removed in a future release. Please use the `predicate` parameter instead.\n",
      "  if await self.run_code(code, result, async_=asy):\n"
     ]
    }
   ],
   "source": [
    "hosp_in_machida=gpd.sjoin(hosp,machida,how=\"inner\",op=\"within\")"
   ]
  },
  {
   "cell_type": "markdown",
   "metadata": {},
   "source": [
    "`hosp_in_machida`の列のなかから，必要なものだけを抜き出したものを，あらためて`hosp_in_machida`とする。"
   ]
  },
  {
   "cell_type": "code",
   "execution_count": 85,
   "metadata": {},
   "outputs": [],
   "source": [
    "hosp_in_machida=hosp_in_machida[['P04_001','P04_002','P04_003','P04_004','P04_008','P04_009','P04_010','geometry']]"
   ]
  },
  {
   "cell_type": "markdown",
   "metadata": {},
   "source": [
    "さらに，救急告示病院を抜き出したものを，`em_hosp`とする。`P04_009`列が1であるものが，救急告示病院である。"
   ]
  },
  {
   "cell_type": "code",
   "execution_count": 88,
   "metadata": {},
   "outputs": [],
   "source": [
    "em_hosp=hosp_in_machida[hosp_in_machida[\"P04_009\"]==1]"
   ]
  },
  {
   "cell_type": "markdown",
   "metadata": {},
   "source": [
    "抜き出したままだとindexが飛び飛びの値になっているので，この番号を`reset_index()`によって振り直す。"
   ]
  },
  {
   "cell_type": "code",
   "execution_count": 90,
   "metadata": {},
   "outputs": [
    {
     "data": {
      "text/html": [
       "<div>\n",
       "<style scoped>\n",
       "    .dataframe tbody tr th:only-of-type {\n",
       "        vertical-align: middle;\n",
       "    }\n",
       "\n",
       "    .dataframe tbody tr th {\n",
       "        vertical-align: top;\n",
       "    }\n",
       "\n",
       "    .dataframe thead th {\n",
       "        text-align: right;\n",
       "    }\n",
       "</style>\n",
       "<table border=\"1\" class=\"dataframe\">\n",
       "  <thead>\n",
       "    <tr style=\"text-align: right;\">\n",
       "      <th></th>\n",
       "      <th>index</th>\n",
       "      <th>P04_001</th>\n",
       "      <th>P04_002</th>\n",
       "      <th>P04_003</th>\n",
       "      <th>P04_004</th>\n",
       "      <th>P04_008</th>\n",
       "      <th>P04_009</th>\n",
       "      <th>P04_010</th>\n",
       "      <th>geometry</th>\n",
       "    </tr>\n",
       "  </thead>\n",
       "  <tbody>\n",
       "    <tr>\n",
       "      <th>0</th>\n",
       "      <td>644</td>\n",
       "      <td>1</td>\n",
       "      <td>あけぼの病院</td>\n",
       "      <td>町田市中町1-23-3</td>\n",
       "      <td>内科　循環器内科　腎臓内科　人工透析内科　糖尿病内分泌内科　ペイン内科　外科　消化器外科　大...</td>\n",
       "      <td>98</td>\n",
       "      <td>1</td>\n",
       "      <td>9</td>\n",
       "      <td>POINT (139.44508 35.54962)</td>\n",
       "    </tr>\n",
       "    <tr>\n",
       "      <th>1</th>\n",
       "      <td>4530</td>\n",
       "      <td>1</td>\n",
       "      <td>ふれあい町田ホスピタル</td>\n",
       "      <td>町田市小山ヶ丘1-3-8</td>\n",
       "      <td>内科　循環器内科　人工透析内科　神経内科　皮膚科　精神科　消化器外科　泌尿器科　脳神経外科　...</td>\n",
       "      <td>199</td>\n",
       "      <td>1</td>\n",
       "      <td>9</td>\n",
       "      <td>POINT (139.38273 35.59798)</td>\n",
       "    </tr>\n",
       "    <tr>\n",
       "      <th>2</th>\n",
       "      <td>6509</td>\n",
       "      <td>1</td>\n",
       "      <td>医療法人社団　慶泉会　町田慶泉病院</td>\n",
       "      <td>町田市南町田2-1-47</td>\n",
       "      <td>内科　神経内科　外科　整形外科　泌尿器科　肛門外科　リハビリ科　麻酔科　血管外科　脳外科　腎臓内科</td>\n",
       "      <td>148</td>\n",
       "      <td>1</td>\n",
       "      <td>9</td>\n",
       "      <td>POINT (139.47072 35.52103)</td>\n",
       "    </tr>\n",
       "    <tr>\n",
       "      <th>3</th>\n",
       "      <td>6599</td>\n",
       "      <td>1</td>\n",
       "      <td>医療法人社団　幸隆会　多摩丘陵病院</td>\n",
       "      <td>町田市下小山田町1491</td>\n",
       "      <td>内科　外科　消化器外科　整形外科　脳神経外科　婦人科　眼科　泌尿器科　リハビリ科　麻酔科　歯...</td>\n",
       "      <td>316</td>\n",
       "      <td>1</td>\n",
       "      <td>9</td>\n",
       "      <td>POINT (139.42167 35.60461)</td>\n",
       "    </tr>\n",
       "    <tr>\n",
       "      <th>4</th>\n",
       "      <td>6681</td>\n",
       "      <td>1</td>\n",
       "      <td>医療法人社団　三医会　鶴川記念病院</td>\n",
       "      <td>町田市三輪町1059-1</td>\n",
       "      <td>内科　小児科　リハビリ科</td>\n",
       "      <td>180</td>\n",
       "      <td>1</td>\n",
       "      <td>9</td>\n",
       "      <td>POINT (139.49661 35.57220)</td>\n",
       "    </tr>\n",
       "    <tr>\n",
       "      <th>5</th>\n",
       "      <td>7085</td>\n",
       "      <td>1</td>\n",
       "      <td>医療法人社団　創生会　町田病院</td>\n",
       "      <td>町田市木曽東4-21-43</td>\n",
       "      <td>内科　胃腸科　循環器科　精神科　神経科　外科　整形外科　脳神経外科　皮膚科　リハビリ科　救急...</td>\n",
       "      <td>120</td>\n",
       "      <td>1</td>\n",
       "      <td>9</td>\n",
       "      <td>POINT (139.42529 35.56538)</td>\n",
       "    </tr>\n",
       "    <tr>\n",
       "      <th>6</th>\n",
       "      <td>17133</td>\n",
       "      <td>1</td>\n",
       "      <td>社会医療法人社団　正志会　南町田病院</td>\n",
       "      <td>町田市鶴間4-4-1</td>\n",
       "      <td>内科　呼吸器内科　消化器内科　循環器内科　神経内科　小児科　外科　呼吸器外科　消化器外科　乳...</td>\n",
       "      <td>222</td>\n",
       "      <td>1</td>\n",
       "      <td>2</td>\n",
       "      <td>POINT (139.47121 35.50702)</td>\n",
       "    </tr>\n",
       "    <tr>\n",
       "      <th>7</th>\n",
       "      <td>21336</td>\n",
       "      <td>1</td>\n",
       "      <td>町田市民病院</td>\n",
       "      <td>町田市旭町2-15-41</td>\n",
       "      <td>内科　小児科　精神科　アレルギー科　リウマチ科　外科　整形外科　形成外科　脳神経外科　心臓血...</td>\n",
       "      <td>447</td>\n",
       "      <td>1</td>\n",
       "      <td>2</td>\n",
       "      <td>POINT (139.43859 35.55705)</td>\n",
       "    </tr>\n",
       "  </tbody>\n",
       "</table>\n",
       "</div>"
      ],
      "text/plain": [
       "   index  P04_001             P04_002        P04_003  \\\n",
       "0    644        1              あけぼの病院    町田市中町1-23-3   \n",
       "1   4530        1         ふれあい町田ホスピタル   町田市小山ヶ丘1-3-8   \n",
       "2   6509        1   医療法人社団　慶泉会　町田慶泉病院   町田市南町田2-1-47   \n",
       "3   6599        1   医療法人社団　幸隆会　多摩丘陵病院   町田市下小山田町1491   \n",
       "4   6681        1   医療法人社団　三医会　鶴川記念病院   町田市三輪町1059-1   \n",
       "5   7085        1     医療法人社団　創生会　町田病院  町田市木曽東4-21-43   \n",
       "6  17133        1  社会医療法人社団　正志会　南町田病院     町田市鶴間4-4-1   \n",
       "7  21336        1              町田市民病院   町田市旭町2-15-41   \n",
       "\n",
       "                                             P04_004  P04_008  P04_009  \\\n",
       "0  内科　循環器内科　腎臓内科　人工透析内科　糖尿病内分泌内科　ペイン内科　外科　消化器外科　大...       98        1   \n",
       "1  内科　循環器内科　人工透析内科　神経内科　皮膚科　精神科　消化器外科　泌尿器科　脳神経外科　...      199        1   \n",
       "2  内科　神経内科　外科　整形外科　泌尿器科　肛門外科　リハビリ科　麻酔科　血管外科　脳外科　腎臓内科      148        1   \n",
       "3  内科　外科　消化器外科　整形外科　脳神経外科　婦人科　眼科　泌尿器科　リハビリ科　麻酔科　歯...      316        1   \n",
       "4                                       内科　小児科　リハビリ科      180        1   \n",
       "5  内科　胃腸科　循環器科　精神科　神経科　外科　整形外科　脳神経外科　皮膚科　リハビリ科　救急...      120        1   \n",
       "6  内科　呼吸器内科　消化器内科　循環器内科　神経内科　小児科　外科　呼吸器外科　消化器外科　乳...      222        1   \n",
       "7  内科　小児科　精神科　アレルギー科　リウマチ科　外科　整形外科　形成外科　脳神経外科　心臓血...      447        1   \n",
       "\n",
       "   P04_010                    geometry  \n",
       "0        9  POINT (139.44508 35.54962)  \n",
       "1        9  POINT (139.38273 35.59798)  \n",
       "2        9  POINT (139.47072 35.52103)  \n",
       "3        9  POINT (139.42167 35.60461)  \n",
       "4        9  POINT (139.49661 35.57220)  \n",
       "5        9  POINT (139.42529 35.56538)  \n",
       "6        2  POINT (139.47121 35.50702)  \n",
       "7        2  POINT (139.43859 35.55705)  "
      ]
     },
     "execution_count": 90,
     "metadata": {},
     "output_type": "execute_result"
    }
   ],
   "source": [
    "em_hosp=em_hosp.reset_index()\n",
    "em_hosp"
   ]
  },
  {
   "cell_type": "markdown",
   "metadata": {},
   "source": [
    "得られた病院を，町田市の行政区域データと重ねて図示する。"
   ]
  },
  {
   "cell_type": "code",
   "execution_count": 91,
   "metadata": {},
   "outputs": [
    {
     "data": {
      "text/plain": [
       "<Axes: >"
      ]
     },
     "execution_count": 91,
     "metadata": {},
     "output_type": "execute_result"
    },
    {
     "data": {
      "image/png": "[encoded data removed]",
      "text/plain": [
       "<Figure size 1000x600 with 1 Axes>"
      ]
     },
     "metadata": {},
     "output_type": "display_data"
    }
   ],
   "source": [
    "fig,ax=plt.subplots(figsize=(10,6))\n",
    "machida.plot(ax=ax,color=\"white\",edgecolor=\"black\")\n",
    "em_hosp.plot(ax=ax,color=\"blue\",edgecolor=\"black\")"
   ]
  },
  {
   "cell_type": "markdown",
   "metadata": {},
   "source": [
    "次に，町田市内の各地域の人口データを用いて，各地域の病院の需要を設定する。まず，東京都の人口データをダウンロードする。[国土数値情報ダウンロードサイト](https://nlftp.mlit.go.jp/ksj/index.html)の「5.各種統計」の1kmメッシュ別将来推計人口データをダウンロードする。\n",
    "\n",
    "これは，世界測地系，平成30年のデータであり，ファイル名は，`1km_mesh_suikei_2018_shape_13.zip`である。これを展開して，`data`フォルダに移動する。\n",
    "\n",
    "この中のshapefileを読み込み，`SHICODE`列（行政区域コード）が13209（町田市）のものを抜き出して，`machida_pop`とする。"
   ]
  },
  {
   "cell_type": "code",
   "execution_count": 87,
   "metadata": {},
   "outputs": [],
   "source": [
    "pop=gpd.read_file(\"data/1km_mesh_suikei_2018_shape_13/1km_mesh_2018_13.shp\")\n",
    "machida_pop=pop[pop[\"SHICODE\"]==13209].copy()"
   ]
  },
  {
   "cell_type": "code",
   "execution_count": 78,
   "metadata": {},
   "outputs": [
    {
     "data": {
      "text/plain": [
       "<Axes: >"
      ]
     },
     "execution_count": 78,
     "metadata": {},
     "output_type": "execute_result"
    },
    {
     "data": {
      "image/png": "[encoded data removed]",
      "text/plain": [
       "<Figure size 640x480 with 1 Axes>"
      ]
     },
     "metadata": {},
     "output_type": "display_data"
    }
   ],
   "source": [
    "machida_pop.plot()"
   ]
  },
  {
   "cell_type": "markdown",
   "metadata": {},
   "source": [
    "1kmメッシュの重点を求めるために，座標系をEPSG:2451とする。この2451は，距離が正しく測れる座標系の一つである。座標系を変換した後に`machida_pop.centroid`によって各メッシュ（各行）のgeometryの重心を求めて，それを改めて`machida_pop`の`centroid`列に覚えておく。"
   ]
  },
  {
   "cell_type": "code",
   "execution_count": 79,
   "metadata": {},
   "outputs": [],
   "source": [
    "machida_pop=machida_pop.to_crs(epsg=2451)\n",
    "machida_pop[\"centroid\"]=machida_pop[\"geometry\"].centroid"
   ]
  },
  {
   "cell_type": "markdown",
   "metadata": {},
   "source": [
    "`machida_pop`の`centroid`列を，`machida_pop`の`geometry`として設定する。このために，`set_geometry()`を用いる。"
   ]
  },
  {
   "cell_type": "code",
   "execution_count": 84,
   "metadata": {},
   "outputs": [
    {
     "data": {
      "text/plain": [
       "<Axes: >"
      ]
     },
     "execution_count": 84,
     "metadata": {},
     "output_type": "execute_result"
    },
    {
     "data": {
      "image/png": "[encoded data removed]",
      "text/plain": [
       "<Figure size 640x480 with 1 Axes>"
      ]
     },
     "metadata": {},
     "output_type": "display_data"
    }
   ],
   "source": [
    "machida_pop.set_geometry(\"centroid\",inplace=True)\n",
    "machida_pop.plot()"
   ]
  },
  {
   "cell_type": "code",
   "execution_count": 82,
   "metadata": {},
   "outputs": [
    {
     "data": {
      "text/plain": [
       "<Axes: >"
      ]
     },
     "execution_count": 82,
     "metadata": {},
     "output_type": "execute_result"
    },
    {
     "data": {
      "image/png": "[encoded data removed]",
      "text/plain": [
       "<Figure size 640x480 with 1 Axes>"
      ]
     },
     "metadata": {},
     "output_type": "display_data"
    }
   ],
   "source": []
  },
  {
   "cell_type": "code",
   "execution_count": null,
   "metadata": {},
   "outputs": [],
   "source": []
  }
 ],
 "metadata": {
  "kernelspec": {
   "display_name": "Python 3 (ipykernel)",
   "language": "python",
   "name": "python3"
  },
  "language_info": {
   "codemirror_mode": {
    "name": "ipython",
    "version": 3
   },
   "file_extension": ".py",
   "mimetype": "text/x-python",
   "name": "python",
   "nbconvert_exporter": "python",
   "pygments_lexer": "ipython3",
   "version": "3.11.4"
  }
 },
 "nbformat": 4,
 "nbformat_minor": 4
}
