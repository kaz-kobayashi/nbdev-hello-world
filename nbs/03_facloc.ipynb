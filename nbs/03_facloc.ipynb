{
 "cells": [
  {
   "cell_type": "markdown",
   "metadata": {},
   "source": [
    "# 施設配置問題\n"
   ]
  },
  {
   "cell_type": "code",
   "execution_count": 1,
   "metadata": {},
   "outputs": [],
   "source": [
    "#| default_exp gis1"
   ]
  },
  {
   "cell_type": "code",
   "execution_count": 2,
   "metadata": {},
   "outputs": [],
   "source": [
    "#| hide\n",
    "from nbdev.showdoc import *"
   ]
  },
  {
   "cell_type": "code",
   "execution_count": 3,
   "metadata": {},
   "outputs": [
    {
     "ename": "ModuleNotFoundError",
     "evalue": "No module named 'pulp'",
     "output_type": "error",
     "traceback": [
      "\u001b[0;31m---------------------------------------------------------------------------\u001b[0m",
      "\u001b[0;31mModuleNotFoundError\u001b[0m                       Traceback (most recent call last)",
      "Cell \u001b[0;32mIn[3], line 2\u001b[0m\n\u001b[1;32m      1\u001b[0m \u001b[39m# Import the library\u001b[39;00m\n\u001b[0;32m----> 2\u001b[0m \u001b[39mfrom\u001b[39;00m \u001b[39mpulp\u001b[39;00m \u001b[39mimport\u001b[39;00m \u001b[39m*\u001b[39m\n\u001b[1;32m      4\u001b[0m \u001b[39m# Initialize the model\u001b[39;00m\n\u001b[1;32m      5\u001b[0m prob \u001b[39m=\u001b[39m LpProblem(\u001b[39m\"\u001b[39m\u001b[39mFacilityLocation\u001b[39m\u001b[39m\"\u001b[39m, LpMinimize)\n",
      "\u001b[0;31mModuleNotFoundError\u001b[0m: No module named 'pulp'"
     ]
    }
   ],
   "source": [
    "# Import the library\n",
    "from pulp import *\n",
    "\n",
    "# Initialize the model\n",
    "prob = LpProblem(\"FacilityLocation\", LpMinimize)\n",
    "\n",
    "# Define the decision variables\n",
    "x = LpVariable.dicts(\"x\", [(i, j) for i in range(2) for j in range(4)], cat='Binary')\n",
    "\n",
    "# Define the costs\n",
    "costs = {\n",
    "    (0, 0): 4,\n",
    "    (0, 1): 6,\n",
    "    (0, 2): 9,\n",
    "    (0, 3): 8,\n",
    "    (1, 0): 5,\n",
    "    (1, 1): 8,\n",
    "    (1, 2): 7,\n",
    "    (1, 3): 6\n",
    "}\n",
    "\n",
    "# Define the objective function\n",
    "prob += lpSum(costs[(i, j)] * x[(i, j)] for i in range(2) for j in range(4))\n",
    "\n",
    "# Add the constraints\n",
    "for j in range(4):\n",
    "    prob += lpSum(x[(i, j)] for i in range(2)) >= 1\n",
    "\n",
    "# Solve the problem\n",
    "prob.solve()\n",
    "\n",
    "# Print the results\n",
    "print(\"Status:\", LpStatus[prob.status])\n",
    "for v in prob.variables():\n",
    "    print(v.name, \"=\", v.varValue)\n",
    "print(\"Total Cost = \", value(prob.objective))\n"
   ]
  },
  {
   "cell_type": "code",
   "execution_count": null,
   "metadata": {},
   "outputs": [],
   "source": [
    "#| hide\n",
    "import nbdev; nbdev.nbdev_export()"
   ]
  },
  {
   "cell_type": "code",
   "execution_count": null,
   "metadata": {},
   "outputs": [],
   "source": []
  },
  {
   "cell_type": "code",
   "execution_count": null,
   "metadata": {},
   "outputs": [],
   "source": []
  }
 ],
 "metadata": {
  "kernelspec": {
   "display_name": "Python 3 (ipykernel)",
   "language": "python",
   "name": "python3"
  },
  "language_info": {
   "codemirror_mode": {
    "name": "ipython",
    "version": 3
   },
   "file_extension": ".py",
   "mimetype": "text/x-python",
   "name": "python",
   "nbconvert_exporter": "python",
   "pygments_lexer": "ipython3",
   "version": "3.11.4"
  }
 },
 "nbformat": 4,
 "nbformat_minor": 4
}
